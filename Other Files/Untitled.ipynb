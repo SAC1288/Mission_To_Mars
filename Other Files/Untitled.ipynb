{
 "cells": [
  {
   "cell_type": "code",
   "execution_count": 2,
   "id": "c7fb7063",
   "metadata": {},
   "outputs": [],
   "source": [
    "phrase1 = \"I yam what I yam and always will be what I yam\"\n"
   ]
  },
  {
   "cell_type": "code",
   "execution_count": null,
   "id": "c95ba8e6",
   "metadata": {},
   "outputs": [],
   "source": [
    "def word_coun(phrase):\n",
    "    words = []\n",
    "    counter = 0\n",
    "    phrase.split(\" \")"
   ]
  }
 ],
 "metadata": {
  "kernelspec": {
   "display_name": "PythonData",
   "language": "python",
   "name": "pythondata"
  },
  "language_info": {
   "codemirror_mode": {
    "name": "ipython",
    "version": 3
   },
   "file_extension": ".py",
   "mimetype": "text/x-python",
   "name": "python",
   "nbconvert_exporter": "python",
   "pygments_lexer": "ipython3",
   "version": "3.7.11"
  }
 },
 "nbformat": 4,
 "nbformat_minor": 5
}
